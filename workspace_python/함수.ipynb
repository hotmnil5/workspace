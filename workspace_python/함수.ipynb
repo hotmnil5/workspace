{
 "cells": [
  {
   "cell_type": "code",
   "execution_count": 3,
   "metadata": {},
   "outputs": [
    {
     "name": "stdout",
     "output_type": "stream",
     "text": [
      "hi\n",
      "hello\n"
     ]
    }
   ],
   "source": [
    "# 함수 선언\n",
    "def sayHello() :\n",
    "  print('hi')\n",
    "  print('hello')\n",
    "\n",
    "sayHello()"
   ]
  },
  {
   "cell_type": "code",
   "execution_count": 4,
   "metadata": {},
   "outputs": [],
   "source": [
    "# return이 있는 함수\n",
    "def getSum() :\n",
    "  return 10 + 20"
   ]
  },
  {
   "cell_type": "code",
   "execution_count": 5,
   "metadata": {},
   "outputs": [
    {
     "name": "stdout",
     "output_type": "stream",
     "text": [
      "30\n"
     ]
    }
   ],
   "source": [
    "print(getSum())"
   ]
  },
  {
   "cell_type": "code",
   "execution_count": 6,
   "metadata": {},
   "outputs": [],
   "source": [
    "# 파이썬은 함수에서 리턴을 여러 개 할 수 있다\n",
    "def getNumbers() :\n",
    "  return 10,20"
   ]
  },
  {
   "cell_type": "code",
   "execution_count": 8,
   "metadata": {},
   "outputs": [
    {
     "name": "stdout",
     "output_type": "stream",
     "text": [
      "10 20\n"
     ]
    }
   ],
   "source": [
    "result1, result2 = getNumbers()\n",
    "print(result1, result2)"
   ]
  },
  {
   "cell_type": "code",
   "execution_count": 9,
   "metadata": {},
   "outputs": [],
   "source": [
    "# 매개변수가 있는 함수\n",
    "def getMulti(num1, num2) : \n",
    "  return num1 * num2"
   ]
  },
  {
   "cell_type": "code",
   "execution_count": 10,
   "metadata": {},
   "outputs": [
    {
     "name": "stdout",
     "output_type": "stream",
     "text": [
      "50\n"
     ]
    }
   ],
   "source": [
    "print(getMulti(10,5))"
   ]
  },
  {
   "cell_type": "code",
   "execution_count": 12,
   "metadata": {},
   "outputs": [],
   "source": [
    "# 매개변수에 default 값을 지정할 수 있다.\n",
    "def getSum(num1, num2, num3 = 10) :\n",
    "  return num1 + num2 + num3"
   ]
  },
  {
   "cell_type": "code",
   "execution_count": 13,
   "metadata": {},
   "outputs": [
    {
     "name": "stdout",
     "output_type": "stream",
     "text": [
      "6\n",
      "13\n"
     ]
    }
   ],
   "source": [
    "print(getSum(1,2,3))\n",
    "print(getSum(1,2))"
   ]
  },
  {
   "cell_type": "code",
   "execution_count": 18,
   "metadata": {},
   "outputs": [],
   "source": [
    "# 매개변수에 들어가는 인자를 이름으로 지정할 수 있다\n",
    "def setMember(name, age, addr) :\n",
    "  print(f'이름은 {name}')\n",
    "  print(f'나이는 {age}')\n",
    "  print(f'주소는 {addr}')"
   ]
  },
  {
   "cell_type": "code",
   "execution_count": 20,
   "metadata": {},
   "outputs": [
    {
     "name": "stdout",
     "output_type": "stream",
     "text": [
      "이름은 홍\n",
      "나이는 30\n",
      "주소는 울산\n",
      "이름은 홍\n",
      "나이는 30\n",
      "주소는 서울\n",
      "이름은 김\n",
      "나이는 40\n",
      "주소는 aaa\n",
      "hi hi\n"
     ]
    }
   ],
   "source": [
    "setMember('홍',30,'울산')\n",
    "setMember(name='홍', addr='서울', age=30)\n",
    "setMember('김', addr='aaa', age=40)\n",
    "\n",
    "def myPrint(str,end = '\\n') :\n",
    "  print(str)\n",
    "\n",
    "print('hi', end=' ')\n",
    "print('hi')"
   ]
  },
  {
   "cell_type": "code",
   "execution_count": 27,
   "metadata": {},
   "outputs": [
    {
     "name": "stdout",
     "output_type": "stream",
     "text": [
      "6\n"
     ]
    }
   ],
   "source": [
    "# 매개변수로 정수로 이루어진 두 개의 리스트가 들어올 때 \n",
    "# 두 리스트의 모든 요소 중 가장 큰 값을 리턴하는 함수\n",
    "def getMaxOfList(list1, list2) :\n",
    "  return max(list1 + list2)\n",
    "\n",
    "print(getMaxOfList([1,2,3],[4,5,6]))"
   ]
  },
  {
   "cell_type": "code",
   "execution_count": 28,
   "metadata": {},
   "outputs": [
    {
     "name": "stdout",
     "output_type": "stream",
     "text": [
      "['h', 'o', 'm']\n"
     ]
    }
   ],
   "source": [
    "# 매개변수로 세 개의 문자열이 전달되면\n",
    "# 세 문자열의 2번째 글자를 모은 리스트를 리턴하는 함수\n",
    "# 단 매개변수로 전달되는 문자열은 모두 길이가 3 이상인 문자열만 들어온다고 가정한다\n",
    "# ex) 'school', 'phone', 'home' -> ['h', 'o', 'm']\n",
    "\n",
    "def getWord(str1, str2, str3) : \n",
    "  return [str1[2], str2[2], str3[2]]\n",
    "\n",
    "print(getWord('schoole','phone','home'))"
   ]
  }
 ],
 "metadata": {
  "kernelspec": {
   "display_name": "Python 3",
   "language": "python",
   "name": "python3"
  },
  "language_info": {
   "codemirror_mode": {
    "name": "ipython",
    "version": 3
   },
   "file_extension": ".py",
   "mimetype": "text/x-python",
   "name": "python",
   "nbconvert_exporter": "python",
   "pygments_lexer": "ipython3",
   "version": "3.12.5"
  }
 },
 "nbformat": 4,
 "nbformat_minor": 2
}
