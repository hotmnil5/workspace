{
 "cells": [
  {
   "cell_type": "code",
   "execution_count": 2,
   "metadata": {},
   "outputs": [
    {
     "name": "stdout",
     "output_type": "stream",
     "text": [
      "입력받은 수는 3입니다.\n"
     ]
    }
   ],
   "source": [
    "# 키보드로 입력받기\n",
    "# input() 함수 사용으로 키보드로 값을 입력받을 수 있다.\n",
    "# input() 함수를 사용하여 키보드로 입력받은 값은 문자열로 인식함.\n",
    "# 문자열 -> 정수 : int()\n",
    "num = input('숫자를 입력하세요 : ')\n",
    "print (f'입력받은 수는 {num}입니다.')"
   ]
  },
  {
   "cell_type": "code",
   "execution_count": null,
   "metadata": {},
   "outputs": [],
   "source": [
    "# 문자열을 정수로 변환\n",
    "result1 = int('10')\n",
    "result2 = int('100')\n",
    "print(result1 + result2)"
   ]
  },
  {
   "cell_type": "code",
   "execution_count": 14,
   "metadata": {},
   "outputs": [
    {
     "name": "stdout",
     "output_type": "stream",
     "text": [
      "두 수의 합은 13입니다.\n"
     ]
    }
   ],
   "source": [
    "# 두 정수를 입력받아 두 정수의 합을 출력\n",
    "num1 = int(input('첫번째 숫자를 입력하세요 : '))\n",
    "num2 = int(input('두번째 숫자를 입력하세요 : '))\n",
    "print (f'두 수의 합은 {num1 + num2}입니다.')"
   ]
  },
  {
   "cell_type": "code",
   "execution_count": 16,
   "metadata": {},
   "outputs": [
    {
     "name": "stdout",
     "output_type": "stream",
     "text": [
      "학생 이름 : 은송, 국어점수 : 100, 영어점수 : 100, 수학점수 : 90, 총점 : 290, 평균 : 96.66666666666667\n"
     ]
    }
   ],
   "source": [
    "# 키보드로 학생의 이름, 국어점수, 영어점수, 수학점수를 입력 받아\n",
    "# 입력받은 학생의 이름, 국어점수, 영어점수, 수학점수 및 총점과 평균 출력\n",
    "stuName = input('학생의 이름을 입력하세요 : ')\n",
    "korScore = int(input('국어점수를 입력하세요 : '))\n",
    "EngScore = int(input('영어점수를 입력하세요 : '))\n",
    "MathScore = int(input('수학점수를 입력하세요 : '))\n",
    "print (f'학생 이름 : {stuName}, 국어점수 : {korScore}, 영어점수 : {EngScore}, 수학점수 : {MathScore}, 총점 : {korScore+EngScore+MathScore}, 평균 : {(korScore+EngScore+MathScore)/3}')"
   ]
  }
 ],
 "metadata": {
  "kernelspec": {
   "display_name": "Python 3",
   "language": "python",
   "name": "python3"
  },
  "language_info": {
   "codemirror_mode": {
    "name": "ipython",
    "version": 3
   },
   "file_extension": ".py",
   "mimetype": "text/x-python",
   "name": "python",
   "nbconvert_exporter": "python",
   "pygments_lexer": "ipython3",
   "version": "3.12.5"
  }
 },
 "nbformat": 4,
 "nbformat_minor": 2
}
